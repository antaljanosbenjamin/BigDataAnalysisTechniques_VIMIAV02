{
 "metadata": {
  "name": "",
  "signature": "sha256:159d329780f7cd8205c3bf464616cce85354ff1a1d09164a264e4940ab413daf"
 },
 "nbformat": 3,
 "nbformat_minor": 0,
 "worksheets": [
  {
   "cells": [
    {
     "cell_type": "code",
     "collapsed": false,
     "input": [
      "%matplotlib inline\n",
      "import pyspark.sql.types\n",
      "from pyspark.sql.types import *\n",
      "from pyspark.sql.functions import udf\n",
      "from pyspark.sql import SQLContext\n",
      "sqlContext = SQLContext(sc)\n",
      "import matplotlib.pyplot as plt\n",
      "import matplotlib.colors as colors\n",
      "from matplotlib.colors import LogNorm\n",
      "import pandas\n",
      "import numpy as np\n",
      "from pyspark.mllib.stat import Statistics "
     ],
     "language": "python",
     "metadata": {
      "slideshow": {
       "slide_type": "-"
      }
     },
     "outputs": [],
     "prompt_number": 8
    },
    {
     "cell_type": "code",
     "collapsed": false,
     "input": [
      "mySchema = StructType([\n",
      "\tStructField('ToiletID',IntegerType(),False),\n",
      "\tStructField('URL',StringType(),False),\n",
      "\tStructField('Name',StringType(),False),\n",
      "\tStructField('Address1',StringType(),True),\n",
      "\tStructField('Town',StringType(),False),\n",
      "\tStructField('State',StringType(),False),\n",
      "\tStructField('Postcode',StringType(),True),\n",
      "\tStructField('AddressNote',StringType(),True),\n",
      "\tStructField('Male',BooleanType(),False),\n",
      "\tStructField('Female',BooleanType(),False),\n",
      "\tStructField('Unisex',BooleanType(),False),\n",
      "\tStructField('DumpPoint',BooleanType(),False),\n",
      "\tStructField('FacilityType()',StringType(),True),\n",
      "\tStructField('ToiletType()',StringType(),True),\n",
      "\tStructField('AccessLimited',BooleanType(),False),\n",
      "\tStructField('PaymentRequired',BooleanType(),False),\n",
      "\tStructField('KeyRequired',BooleanType(),True),\n",
      "\tStructField('AccessNote',StringType(),True),\n",
      "\tStructField('Parking',BooleanType(),False),\n",
      "\tStructField('ParkingNote',StringType(),True),\n",
      "\tStructField('AccessibleMale',BooleanType(),False),\n",
      "\tStructField('AccessibleFemale',BooleanType(),False),\n",
      "\tStructField('AccessibleUnisex',BooleanType(),False),\n",
      "\tStructField('AccessibleNote',StringType(),True),\n",
      "\tStructField('MLAK',BooleanType(),False),\n",
      "\tStructField('ParkingAccessible',BooleanType(),False),\n",
      "\tStructField('AccessibleParkingNote',StringType(),True),\n",
      "\tStructField('Ambulant',BooleanType(),False),\n",
      "\tStructField('LHTransfer',BooleanType(),False),\n",
      "\tStructField('RHTransfer',BooleanType(),False),\n",
      "\tStructField('AdultChange',BooleanType(),False),\n",
      "\tStructField('IsOpen',StringType(),False),\n",
      "\tStructField('OpeningHoursSchedule',StringType(),True),\n",
      "\tStructField('OpeningHoursNote',StringType(),True),\n",
      "\tStructField('BabyChange',BooleanType(),False),\n",
      "\tStructField('Showers',BooleanType(),False),\n",
      "\tStructField('DrinkingWater',BooleanType(),False),\n",
      "\tStructField('SharpsDisposal',BooleanType(),False),\n",
      "\tStructField('SanitaryDisposal',StringType(),True),\n",
      "\tStructField('IconURL',StringType(),False),\n",
      "\tStructField('IconAltText',StringType(),True),\n",
      "\tStructField('Notes',StringType(),True),\n",
      "\tStructField('Status',StringType(),True),\n",
      "\tStructField('Latitude',DoubleType(),False),\n",
      "\tStructField('Longitude',DoubleType(),False)])"
     ],
     "language": "python",
     "metadata": {},
     "outputs": [],
     "prompt_number": 9
    },
    {
     "cell_type": "code",
     "collapsed": false,
     "input": [
      "data = spark.read.csv('input.csv', header=True, mode='DROPMALFORMED', schema=mySchema)"
     ],
     "language": "python",
     "metadata": {},
     "outputs": [],
     "prompt_number": 37
    },
    {
     "cell_type": "code",
     "collapsed": false,
     "input": [
      "def booleanToInteger(value):\n",
      "   if value: \n",
      "        return 1\n",
      "   else:\n",
      "        return 0\n",
      "    \n",
      "def statusToInteger(value):\n",
      "   if value == 'Verified': \n",
      "        return 1\n",
      "   else:\n",
      "        return 0\n",
      "\n",
      "numericValues = []\n",
      "data = data.withColumn('RealUnisex', (data.Male & data.Female) | data.Unisex )\n",
      "data = data.withColumn('RealAccessibleUnisex', (data.AccessibleMale & data.AccessibleFemale) | data.AccessibleUnisex )\n",
      "udfBooleanToInteger = udf(booleanToInteger, IntegerType())\n",
      "udfStatusToInteger = udf(statusToInteger, IntegerType())\n",
      "for struct in data.schema:\n",
      "    if (struct.dataType == BooleanType()):\n",
      "        data = data.withColumn(struct.name + 'Num', udfBooleanToInteger(struct.name))\n",
      "        numericValues.append(struct.name + 'Num')\n",
      "numericValues.extend(['Longitude', 'Latitude'])\n",
      "data = data.withColumn('StatusNum', udfStatusToInteger('Status'))"
     ],
     "language": "python",
     "metadata": {},
     "outputs": [
      {
       "output_type": "stream",
       "stream": "stdout",
       "text": [
        "['MaleNum', 'FemaleNum', 'UnisexNum', 'DumpPointNum', 'AccessLimitedNum', 'PaymentRequiredNum', 'KeyRequiredNum', 'ParkingNum', 'AccessibleMaleNum', 'AccessibleFemaleNum', 'AccessibleUnisexNum', 'MLAKNum', 'ParkingAccessibleNum', 'AmbulantNum', 'LHTransferNum', 'RHTransferNum', 'AdultChangeNum', 'BabyChangeNum', 'ShowersNum', 'DrinkingWaterNum', 'SharpsDisposalNum', 'RealUnisexNum', 'RealAccessibleUnisexNum', 'Longitude', 'Latitude']\n"
       ]
      }
     ],
     "prompt_number": 44
    },
    {
     "cell_type": "code",
     "collapsed": false,
     "input": [
      "describe = data.select('RealUnisexNum', 'RealAccessibleUnisexNum').describe().drop('ToiletID')\n",
      "describe.show()"
     ],
     "language": "python",
     "metadata": {},
     "outputs": [
      {
       "output_type": "stream",
       "stream": "stdout",
       "text": [
        "+-------+-------------------+-----------------------+\n",
        "|summary|      RealUnisexNum|RealAccessibleUnisexNum|\n",
        "+-------+-------------------+-----------------------+\n",
        "|  count|              18485|                  18485|\n",
        "|   mean| 0.9245334054638896|     0.4974303489315661|\n",
        "| stddev|0.26414988611807005|     0.5000069216992353|\n",
        "|    min|                  0|                      0|\n",
        "|    max|                  1|                      1|\n",
        "+-------+-------------------+-----------------------+\n",
        "\n"
       ]
      }
     ],
     "prompt_number": 72
    },
    {
     "cell_type": "code",
     "collapsed": false,
     "input": [
      "for col1 in numericValues:\n",
      "    for col2 in numericValues:\n",
      "        if not col1 < col2:\n",
      "            continue\n",
      "        correlation = data.corr(col1,col2)\n",
      "        if abs(correlation) > 0.5:\n",
      "            print '\\item $corr(' + col1 + ', ' + col2 + ') = |' + str(correlation) + '|$'"
     ],
     "language": "python",
     "metadata": {},
     "outputs": [
      {
       "output_type": "stream",
       "stream": "stdout",
       "text": [
        "\\item $corr(MaleNum, UnisexNum) = |-0.761670828802|$\n",
        "\\item $corr(MaleNum, RealUnisexNum) = |0.545528813817|$"
       ]
      },
      {
       "output_type": "stream",
       "stream": "stdout",
       "text": [
        "\n",
        "\\item $corr(FemaleNum, MaleNum) = |0.979893857254|$"
       ]
      },
      {
       "output_type": "stream",
       "stream": "stdout",
       "text": [
        "\n",
        "\\item $corr(FemaleNum, UnisexNum) = |-0.759448458756|$"
       ]
      },
      {
       "output_type": "stream",
       "stream": "stdout",
       "text": [
        "\n",
        "\\item $corr(FemaleNum, RealUnisexNum) = |0.552666536407|$"
       ]
      },
      {
       "output_type": "stream",
       "stream": "stdout",
       "text": [
        "\n",
        "\\item $corr(AccessibleMaleNum, RealAccessibleUnisexNum) = |0.535177587196|$"
       ]
      },
      {
       "output_type": "stream",
       "stream": "stdout",
       "text": [
        "\n",
        "\\item $corr(AccessibleFemaleNum, AccessibleMaleNum) = |0.993921560152|$"
       ]
      },
      {
       "output_type": "stream",
       "stream": "stdout",
       "text": [
        "\n",
        "\\item $corr(AccessibleFemaleNum, RealAccessibleUnisexNum) = |0.532899009946|$"
       ]
      },
      {
       "output_type": "stream",
       "stream": "stdout",
       "text": [
        "\n",
        "\\item $corr(AccessibleUnisexNum, RealAccessibleUnisexNum) = |0.61919161941|$"
       ]
      },
      {
       "output_type": "stream",
       "stream": "stdout",
       "text": [
        "\n",
        "\\item $corr(ParkingAccessibleNum, ParkingNum) = |0.531230786653|$"
       ]
      },
      {
       "output_type": "stream",
       "stream": "stdout",
       "text": [
        "\n"
       ]
      }
     ],
     "prompt_number": 76
    },
    {
     "cell_type": "code",
     "collapsed": false,
     "input": [
      "parkingData = data.filter('Parking')\n",
      "parkingData.corr('ParkingAccessibleNum','AccessibleFemaleNum')"
     ],
     "language": "python",
     "metadata": {},
     "outputs": [
      {
       "metadata": {},
       "output_type": "pyout",
       "prompt_number": 74,
       "text": [
        "0.07317631036820378"
       ]
      }
     ],
     "prompt_number": 74
    },
    {
     "cell_type": "code",
     "collapsed": false,
     "input": [
      "def filterAndDrawHeatmap(datas, *args, **kwargs):\n",
      "    plt.rcParams.update({'font.size' : 14})\n",
      "    coords = datas.filter(kwargs.get('filterString', 'True')).select('Longitude','Latitude')\n",
      "    panda = coords.toPandas()\n",
      "    values = panda.get_values()\n",
      "    x,y = zip(*values)\n",
      "    plt.clf()\n",
      "    plt.scatter(x,y,edgecolors='none',\n",
      "                norm=colors.LogNorm())\n",
      "    ranges = kwargs.get('ranges', [110,155,-45,-10])\n",
      "    plt.axis(ranges)\n",
      "    plt.title(kwargs.get('scatterTitle','Title'))\n",
      "    scatterImage = kwargs.get('scatterImage',None)\n",
      "    if (scatterImage is not None):\n",
      "        plt.savefig(scatterImage, bbox_inches = 'tight', pad_inches = 0)\n",
      "    plt.show()\n",
      "    \n",
      "    heatMax = kwargs.get('heatMax', 30)\n",
      "    \n",
      "    heatmap, xedges, yedges = np.histogram2d(x, y, bins=kwargs.get('bins',[140,180]), range = [[ranges[0], ranges[1]], [ranges[2], ranges[3]]])\n",
      "    for i in range(len(heatmap)):\n",
      "            for j in range(len(heatmap[i])):\n",
      "                    if heatmap[i][j] > heatMax:\n",
      "                        heatmap[i][j] = heatMax\n",
      "    extent = [xedges[0], xedges[-1], yedges[0], yedges[-1]]\n",
      "\n",
      "    plt.clf()\n",
      "    plt.axis(ranges)\n",
      "    plt.title(kwargs.get('heatmapTitle','Title'), fontsize=20)\n",
      "    imgplot = plt.imshow(heatmap.T, extent=extent, origin='lower')\n",
      "    plt.colorbar()\n",
      "    heatImage = kwargs.get('heatImage',None)\n",
      "    if (heatImage is not None):\n",
      "        plt.savefig(heatImage, bbox_inches = 'tight', pad_inches = 0)\n",
      "    return"
     ],
     "language": "python",
     "metadata": {},
     "outputs": [],
     "prompt_number": 60
    },
    {
     "cell_type": "code",
     "collapsed": false,
     "input": [
      "#coords = coords.select('Longitude','Latitude')\n",
      "#coords = coords.filter('Longitude >= 146 or Longitude <= 144 or Latitude >= -37 or Latitude <= -39')\n",
      "#coords = coords.filter('Longitude >= 152 or Longitude <= 149 or Latitude >= -32 or Latitude <= -35')\n",
      "#coords = coords.filter('Longitude >= 154 or Longitude <= 151 or Latitude >= -26 or Latitude <= -29')\n",
      "#.filter('Latitude <= -37').filter('Latitude >= -39')\n",
      "for i in [1,2,3,4,5]:\n",
      "    for j in [10,20,30,40,50]:\n",
      "        filterAndDrawHeatmap(data, \n",
      "                             heatImage='heat_'+str(i)+'_'+str(j)+'.jpg',\n",
      "                             heatmapTitle=str(i*35) + 'x' + str(i*45) + ' bins, maximum value is ' + str(j), \n",
      "                             heatMax=j, \n",
      "                             bins=[i*35,i*45])\n",
      "        #print '\\includegraphics[scale=0.35]{heat_'+str(i)+'_'+str(j) + '}'\n"
     ],
     "language": "python",
     "metadata": {},
     "outputs": [
      {
       "metadata": {},
       "output_type": "display_data",
       "png": "[encoded data removed]",
       "text": [
        "<matplotlib.figure.Figure at 0x7f1ac0706d10>"
       ]
      },
      {
       "metadata": {},
       "output_type": "display_data",
       "png": "[encoded data removed]",
       "text": [
        "<matplotlib.figure.Figure at 0x7f1ac03117d0>"
       ]
      }
     ],
     "prompt_number": 70
    }
   ],
   "metadata": {}
  }
 ]
}